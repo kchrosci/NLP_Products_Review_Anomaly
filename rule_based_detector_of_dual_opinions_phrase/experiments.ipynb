{
 "cells": [
  {
   "cell_type": "code",
   "execution_count": 22,
   "metadata": {},
   "outputs": [],
   "source": [
    "import pandas as pd\n",
    "import spacy\n",
    "import matplotlib.pyplot as plt\n",
    "import seaborn as sns\n",
    "import random\n",
    "from tabulate import tabulate\n",
    "import math\n",
    "from spacy.matcher import PhraseMatcher\n"
   ]
  },
  {
   "cell_type": "code",
   "execution_count": 23,
   "metadata": {},
   "outputs": [],
   "source": [
    "opinions = pd.read_csv('csv_data/preprocesed_files/all_opinions_merged.csv')\n",
    "# Tworzenie listy krotek\n",
    "opinions_list = [(row['content'], row['doubleQuality']) for _, row in opinions.iterrows()]\n",
    "random.shuffle(opinions_list)\n"
   ]
  },
  {
   "cell_type": "code",
   "execution_count": 24,
   "metadata": {},
   "outputs": [
    {
     "name": "stdout",
     "output_type": "stream",
     "text": [
      "107\n"
     ]
    }
   ],
   "source": [
    "# opinions_list=opinions_list[0:3000]\n",
    "sum_of_values = sum(item[1] for item in opinions_list)\n",
    "print(sum_of_values)  #"
   ]
  },
  {
   "cell_type": "code",
   "execution_count": 25,
   "metadata": {},
   "outputs": [
    {
     "name": "stdout",
     "output_type": "stream",
     "text": [
      "34\n",
      "31\n"
     ]
    }
   ],
   "source": [
    "nlp = spacy.load('pl_core_news_md')\n",
    "\n",
    "# Obiekt PhraseMatcher\n",
    "matcher = PhraseMatcher(nlp.vocab, attr='LOWER')\n",
    "\n",
    "# Lista fraz\n",
    "term_list = [\"lepszy niż\", \"lepszy od\", \"nie ma już\", \"na rynku\", \"w polskich\", \"lepszej jakosci\", \"od niemca\", \"nad polskimi\",\n",
    "             \"tak dobrze jak\", \"jak niemiecki\", \"polskiej wersji\", \"nad polskimi\", \"jak niemiecki\", \"najlepszy bo\", \"polski produkt\",\n",
    "             \"niemieckie wydanie\", \"jest Niemieckim\", \"oryginalne niemieckie\", \"z niemiec\", \"to niemiecki\", \"niemiecka chemia\",\n",
    "             \"niemiecka jakość\", \"oryginalny produkt\", \"rynek zachodni\", \"lepsza niż\", \"rynek polski\", \"zachodni rynek\",\n",
    "             \"niemiecki rynek\", \"jak polski\", \"wyprodukowany w\", \"produkowany w niemczech\", \"nie dorównują\", \"polskiej wersji\", \"europę wschodnią\"]\n",
    "print(len(term_list))\n",
    "term_list = list(set(term_list))\n",
    "print(len(term_list))\n"
   ]
  },
  {
   "cell_type": "code",
   "execution_count": 26,
   "metadata": {},
   "outputs": [
    {
     "name": "stdout",
     "output_type": "stream",
     "text": [
      "╒═══════════════════════╤═════════════════════════╤═════════════════╤════════════════════╕\n",
      "│ polskiej wersji       │ lepszy niż              │ z niemiec       │ w polskich         │\n",
      "├───────────────────────┼─────────────────────────┼─────────────────┼────────────────────┤\n",
      "│ polski produkt        │ to niemiecki            │ jak niemiecki   │ lepszej jakosci    │\n",
      "├───────────────────────┼─────────────────────────┼─────────────────┼────────────────────┤\n",
      "│ nie ma już            │ nie dorównują           │ lepszy od       │ oryginalny produkt │\n",
      "├───────────────────────┼─────────────────────────┼─────────────────┼────────────────────┤\n",
      "│ niemiecka jakość      │ na rynku                │ rynek polski    │ nad polskimi       │\n",
      "├───────────────────────┼─────────────────────────┼─────────────────┼────────────────────┤\n",
      "│ od niemca             │ niemieckie wydanie      │ rynek zachodni  │ zachodni rynek     │\n",
      "├───────────────────────┼─────────────────────────┼─────────────────┼────────────────────┤\n",
      "│ niemiecki rynek       │ lepsza niż              │ tak dobrze jak  │ niemiecka chemia   │\n",
      "├───────────────────────┼─────────────────────────┼─────────────────┼────────────────────┤\n",
      "│ oryginalne niemieckie │ produkowany w niemczech │ jest Niemieckim │ jak polski         │\n",
      "├───────────────────────┼─────────────────────────┼─────────────────┼────────────────────┤\n",
      "│ wyprodukowany w       │ europę wschodnią        │ najlepszy bo    │                    │\n",
      "╘═══════════════════════╧═════════════════════════╧═════════════════╧════════════════════╛\n"
     ]
    }
   ],
   "source": [
    "\n",
    "columns = 4\n",
    "rows = math.ceil(len(term_list) / columns)\n",
    "table = []\n",
    "\n",
    "for i in range(rows):\n",
    "    row = term_list[i*columns:(i+1)*columns]\n",
    "    table.append(row)\n",
    "\n",
    "print(tabulate(table,  tablefmt=\"fancy_grid\"))"
   ]
  },
  {
   "cell_type": "code",
   "execution_count": 27,
   "metadata": {},
   "outputs": [],
   "source": [
    "\n",
    "def rule_based_double_quality_search(dataset, term_list):\n",
    "\n",
    "    total_sentences = len(dataset)\n",
    "    true_positives = 0\n",
    "    false_positives = 0\n",
    "    true_negatives = 0\n",
    "    false_negatives = 0\n",
    "\n",
    "    # Konwersja fraz na obiekty typu Document\n",
    "    patterns = [nlp.make_doc(t) for t in term_list]\n",
    "\n",
    "    # Dodanie wzorców do obiektu matcher\n",
    "    matcher.add(\"Phrase Match\", None, *patterns)\n",
    "\n",
    "    for txt in dataset:\n",
    "        # Tekst wejściowy jako obiekt typu Document\n",
    "        doc = nlp(txt[0])\n",
    "        \n",
    "        # Wywołanie metody matcher na obiekcie doc. Zwraca obiekty typu Span\n",
    "        matches = matcher(doc, as_spans=True)\n",
    "        \n",
    "        if len(matches) > 0:\n",
    "            if(txt[1] == 1):\n",
    "                true_positives += 1\n",
    "            else:\n",
    "                false_positives += 1\n",
    "        else:            \n",
    "            if(txt[1] == 0):\n",
    "                true_negatives += 1\n",
    "            else:\n",
    "                false_negatives += 1\n",
    "    \n",
    "    # Tworzenie listy z danymi\n",
    "    data = [\n",
    "        [\"Liczba zdań ze zbioru:\", total_sentences],\n",
    "        [\"TP:\", true_positives],\n",
    "        [\"FN:\", false_negatives],\n",
    "        [\"FP:\", false_positives],\n",
    "        [\"TN:\", true_negatives]\n",
    "    ]\n",
    "\n",
    "    # Obliczenie metryk\n",
    "    if (true_positives + false_positives) != 0:\n",
    "        precision = true_positives / (true_positives + false_positives)\n",
    "    else:\n",
    "        precision = 0.0\n",
    "\n",
    "    if (true_positives + false_negatives) != 0:\n",
    "        recall = true_positives / (true_positives + false_negatives)\n",
    "    else:\n",
    "        recall = 0.0\n",
    "\n",
    "    if (true_positives + true_negatives + false_positives + false_negatives) != 0:\n",
    "        accuracy = (true_positives + true_negatives) / (true_positives + true_negatives + false_positives + false_negatives)\n",
    "    else:\n",
    "        accuracy = 0.0\n",
    "\n",
    "    if (precision + recall) != 0:\n",
    "        f1_score = 2 * (precision * recall) / (precision + recall)\n",
    "    else:\n",
    "        f1_score = 0.0\n",
    "\n",
    "    if (true_positives + true_negatives + false_positives + false_negatives) != 0:\n",
    "        loss = (false_positives + false_negatives) / (true_positives + true_negatives + false_positives + false_negatives)\n",
    "    else:\n",
    "        loss = 0.0\n",
    "        \n",
    "    # Dodanie metryk do listy danych\n",
    "    data.extend([\n",
    "        [\"Miary:\"],\n",
    "        [\"Precision (precyzja):\", precision],\n",
    "        [\"Recall (czułość):\", recall],\n",
    "        [\"Accuracy (dokładność):\", accuracy],\n",
    "        [\"Loss (strata):\", loss],\n",
    "        [\"F1 Score (miara F1):\", f1_score]\n",
    "    ])\n",
    "\n",
    "    # Wypisanie danych w postaci tabeli\n",
    "    print(tabulate(data, headers=[\"Miary\",\"Wartości\"], tablefmt=\"fancy_grid\"))\n",
    "\n",
    "    confusion_matrix = [[true_positives, false_negatives], [false_positives, true_negatives]]\n",
    "\n",
    "   # Tworzenie etykiet dla macierzy pomyłek\n",
    "    labels = [[\"Pozytywna\", \"Negatywna\"], [\"Pozytywna\", \"Negatywna\"]]\n",
    "\n",
    "    # Wykreślenie Confusion Matrix z etykietami\n",
    "    sns.heatmap(confusion_matrix, annot=True, cmap=\"Blues\", fmt=\"d\", xticklabels=labels[0], yticklabels=labels[1])\n",
    "    plt.xlabel(\"Klasa predykowana\")\n",
    "    plt.ylabel(\"Klasa rzeczywista\")\n",
    "    plt.title(\"Tablica pomyłek\")\n",
    "    plt.show()\n"
   ]
  },
  {
   "cell_type": "code",
   "execution_count": 28,
   "metadata": {},
   "outputs": [
    {
     "name": "stdout",
     "output_type": "stream",
     "text": [
      "╒════════════════════════╤═══════════════╕\n",
      "│ Miary                  │      Wartości │\n",
      "╞════════════════════════╪═══════════════╡\n",
      "│ Liczba zdań ze zbioru: │ 33197         │\n",
      "├────────────────────────┼───────────────┤\n",
      "│ TP:                    │    52         │\n",
      "├────────────────────────┼───────────────┤\n",
      "│ FN:                    │    55         │\n",
      "├────────────────────────┼───────────────┤\n",
      "│ FP:                    │   675         │\n",
      "├────────────────────────┼───────────────┤\n",
      "│ TN:                    │ 32415         │\n",
      "├────────────────────────┼───────────────┤\n",
      "│ Miary:                 │               │\n",
      "├────────────────────────┼───────────────┤\n",
      "│ Precision (precyzja):  │     0.0715268 │\n",
      "├────────────────────────┼───────────────┤\n",
      "│ Recall (czułość):      │     0.485981  │\n",
      "├────────────────────────┼───────────────┤\n",
      "│ Accuracy (dokładność): │     0.97801   │\n",
      "├────────────────────────┼───────────────┤\n",
      "│ Loss (strata):         │     0.0219899 │\n",
      "├────────────────────────┼───────────────┤\n",
      "│ F1 Score (miara F1):   │     0.1247    │\n",
      "╘════════════════════════╧═══════════════╛\n"
     ]
    },
    {
     "data": {
      "image/png": "[encoded data removed]",
      "text/plain": [
       "<Figure size 640x480 with 2 Axes>"
      ]
     },
     "metadata": {},
     "output_type": "display_data"
    }
   ],
   "source": [
    "# Oblicz miary dla zbioru anomaly_opinions\n",
    "rule_based_double_quality_search(opinions_list, term_list)"
   ]
  },
  {
   "cell_type": "code",
   "execution_count": null,
   "metadata": {},
   "outputs": [],
   "source": []
  }
 ],
 "metadata": {
  "kernelspec": {
   "display_name": "base",
   "language": "python",
   "name": "python3"
  },
  "language_info": {
   "codemirror_mode": {
    "name": "ipython",
    "version": 3
   },
   "file_extension": ".py",
   "mimetype": "text/x-python",
   "name": "python",
   "nbconvert_exporter": "python",
   "pygments_lexer": "ipython3",
   "version": "3.10.9"
  },
  "orig_nbformat": 4
 },
 "nbformat": 4,
 "nbformat_minor": 2
}
