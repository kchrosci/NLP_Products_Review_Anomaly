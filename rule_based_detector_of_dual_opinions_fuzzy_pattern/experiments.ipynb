{
 "cells": [
  {
   "cell_type": "code",
   "execution_count": 10,
   "metadata": {},
   "outputs": [],
   "source": [
    "import pandas as pd\n",
    "import spacy\n",
    "import matplotlib.pyplot as plt\n",
    "import seaborn as sns\n",
    "import random\n",
    "from tabulate import tabulate\n",
    "from spacy.matcher import Matcher\n"
   ]
  },
  {
   "cell_type": "code",
   "execution_count": 11,
   "metadata": {},
   "outputs": [],
   "source": [
    "opinions = pd.read_csv('../csv_data/preprocesed_files/all_opinions_merged.csv')\n",
    "# Tworzenie listy krotek\n",
    "opinions_list = [(row['content'], row['doubleQuality']) for _, row in opinions.iterrows()]\n",
    "random.shuffle(opinions_list)"
   ]
  },
  {
   "cell_type": "code",
   "execution_count": 12,
   "metadata": {},
   "outputs": [
    {
     "name": "stdout",
     "output_type": "stream",
     "text": [
      "107\n"
     ]
    }
   ],
   "source": [
    "#opinions_list=opinions_list[0:3000]\n",
    "sum_of_values = sum(item[1] for item in opinions_list)\n",
    "print(sum_of_values)"
   ]
  },
  {
   "cell_type": "code",
   "execution_count": 13,
   "metadata": {},
   "outputs": [],
   "source": [
    "nlp = spacy.load('pl_core_news_md')\n",
    "\n",
    "# Obiekt PhraseMatcher\n",
    "matcher = Matcher(nlp.vocab)\n",
    "\n",
    "patterns = [\n",
    "    [{\"LOWER\": {\"FUZZY\": \"lepszy\"}}, {\"LOWER\": {\"FUZZY\": \"niż\"}}],\n",
    "    [{\"LOWER\": {\"FUZZY\": \"lepszy\"}}, {\"LOWER\": {\"FUZZY\": \"od\"}}],\n",
    "    [{\"LOWER\": {\"FUZZY\": \"nie\"}}, {\"LOWER\": {\"FUZZY\": \"ma\"}}, {\"LOWER\": {\"FUZZY\": \"już\"}}],\n",
    "    [{\"LOWER\": {\"FUZZY\": \"na\"}}, {\"LOWER\": {\"FUZZY\": \"rynku\"}}],\n",
    "    [{\"LOWER\": {\"FUZZY\": \"w\"}}, {\"LOWER\": {\"FUZZY\": \"polskich\"}}],\n",
    "    [{\"LOWER\": {\"FUZZY\": \"lepszej\"}}, {\"LOWER\": {\"FUZZY\": \"jakosci\"}}],\n",
    "    [{\"LOWER\": {\"FUZZY\": \"od\"}}, {\"LOWER\": {\"FUZZY\": \"niemca\"}}],\n",
    "    [{\"LOWER\": {\"FUZZY\": \"nad\"}}, {\"LOWER\": {\"FUZZY\": \"polskimi\"}}],\n",
    "    [{\"LOWER\": {\"FUZZY\": \"tak\"}}, {\"LOWER\": {\"FUZZY\": \"dobrze\"}}, {\"LOWER\": {\"FUZZY\": \"jak\"}}],\n",
    "    [{\"LOWER\": {\"FUZZY\": \"jak\"}}, {\"LOWER\": {\"FUZZY\": \"niemiecki\"}}],\n",
    "    [{\"LOWER\": {\"FUZZY\": \"polskiej\"}}, {\"LOWER\": {\"FUZZY\": \"wersji\"}}],\n",
    "    [{\"LOWER\": {\"FUZZY\": \"nad\"}}, {\"LOWER\": {\"FUZZY\": \"polskimi\"}}],\n",
    "    [{\"LOWER\": {\"FUZZY\": \"najlepszy\"}}, {\"LOWER\": {\"FUZZY\": \"bo\"}}],\n",
    "    [{\"LOWER\": {\"FUZZY\": \"polski\"}}, {\"LOWER\": {\"FUZZY\": \"produkt\"}}],\n",
    "    [{\"LOWER\": {\"FUZZY\": \"niemieckie\"}}, {\"LOWER\": {\"FUZZY\": \"wydanie\"}}],\n",
    "    [{\"LOWER\": {\"FUZZY\": \"jest\"}}, {\"LOWER\": {\"FUZZY\": \"niemieckim\"}}],\n",
    "    [{\"LOWER\": {\"FUZZY\": \"oryginalne\"}}, {\"LOWER\": {\"FUZZY\": \"niemieckie\"}}],\n",
    "    [{\"LOWER\": {\"FUZZY\": \"z\"}}, {\"LOWER\": {\"FUZZY\": \"niemiec\"}}],\n",
    "    [{\"LOWER\": {\"FUZZY\": \"to\"}}, {\"LOWER\": {\"FUZZY\": \"niemiecki\"}}],\n",
    "    [{\"LOWER\": {\"FUZZY\": \"niemiecka\"}}, {\"LOWER\": {\"FUZZY\": \"chemia\"}}],\n",
    "    [{\"LOWER\": {\"FUZZY\": \"niemiecka\"}}, {\"LOWER\": {\"FUZZY\": \"jakość\"}}],\n",
    "    [{\"LOWER\": {\"FUZZY\": \"oryginalny\"}}, {\"LOWER\": {\"FUZZY\": \"produkt\"}}],\n",
    "    [{\"LOWER\": {\"FUZZY\": \"rynek\"}}, {\"LOWER\": {\"FUZZY\": \"zachodni\"}}],\n",
    "    [{\"LOWER\": {\"FUZZY\": \"lepsza\"}}, {\"LOWER\": {\"FUZZY\": \"niż\"}}],\n",
    "    [{\"LOWER\": {\"FUZZY\": \"rynek\"}}, {\"LOWER\": {\"FUZZY\": \"polski\"}}],\n",
    "    [{\"LOWER\": {\"FUZZY\": \"zachodni\"}}, {\"LOWER\": {\"FUZZY\": \"rynek\"}}],\n",
    "    [{\"LOWER\": {\"FUZZY\": \"niemiecki\"}}, {\"LOWER\": {\"FUZZY\": \"rynek\"}}],\n",
    "    [{\"LOWER\": {\"FUZZY\": \"jak\"}}, {\"LOWER\": {\"FUZZY\": \"polski\"}}],\n",
    "    [{\"LOWER\": {\"FUZZY\": \"wyprodukowany\"}}, {\"LOWER\": {\"FUZZY\": \"w\"}}],\n",
    "    [{\"LOWER\": {\"FUZZY\": \"produkowany\"}}, {\"LOWER\": {\"FUZZY\": \"w\"}}, {\"LOWER\": {\"FUZZY\": \"niemczech\"}}],\n",
    "    [{\"LOWER\": {\"FUZZY\": \"nie\"}}, {\"LOWER\": {\"FUZZY\": \"dorównują\"}}],\n",
    "    [{\"LOWER\": {\"FUZZY\": \"polskiej\"}}, {\"LOWER\": {\"FUZZY\": \"wersji\"}}],\n",
    "    [{\"LOWER\": {\"FUZZY\": \"europę\"}}, {\"LOWER\": {\"FUZZY\": \"wschodnią\"}}]\n",
    "]\n",
    "\n",
    "matcher.add(\"DoubleQuality\", patterns)"
   ]
  },
  {
   "cell_type": "code",
   "execution_count": 14,
   "metadata": {},
   "outputs": [
    {
     "name": "stdout",
     "output_type": "stream",
     "text": [
      "╒════════════════════════════════════════════════════════════════════════════════════════╕\n",
      "│ Wzorzec                                                                                │\n",
      "╞════════════════════════════════════════════════════════════════════════════════════════╡\n",
      "│ [{'LOWER': {'FUZZY': 'lepszy'}}, {'LOWER': {'FUZZY': 'niż'}}]                          │\n",
      "├────────────────────────────────────────────────────────────────────────────────────────┤\n",
      "│ [{'LOWER': {'FUZZY': 'lepszy'}}, {'LOWER': {'FUZZY': 'od'}}]                           │\n",
      "├────────────────────────────────────────────────────────────────────────────────────────┤\n",
      "│ [{'LOWER': {'FUZZY': 'nie'}}, {'LOWER': {'FUZZY': 'ma'}}, {'LOWER': {'FUZZY': 'już'}}] │\n",
      "├────────────────────────────────────────────────────────────────────────────────────────┤\n",
      "│ [{'LOWER': {'FUZZY': 'na'}}, {'LOWER': {'FUZZY': 'rynku'}}]                            │\n",
      "├────────────────────────────────────────────────────────────────────────────────────────┤\n",
      "│ [{'LOWER': {'FUZZY': 'w'}}, {'LOWER': {'FUZZY': 'polskich'}}]                          │\n",
      "├────────────────────────────────────────────────────────────────────────────────────────┤\n",
      "│ [{'LOWER': {'FUZZY': 'lepszej'}}, {'LOWER': {'FUZZY': 'jakosci'}}]                     │\n",
      "├────────────────────────────────────────────────────────────────────────────────────────┤\n",
      "│ [{'LOWER': {'FUZZY': 'od'}}, {'LOWER': {'FUZZY': 'niemca'}}]                           │\n",
      "╘════════════════════════════════════════════════════════════════════════════════════════╛\n"
     ]
    }
   ],
   "source": [
    "from tabulate import tabulate\n",
    "\n",
    "selected_patterns = patterns[:7]\n",
    "\n",
    "table_data = [[pattern] for pattern in selected_patterns]\n",
    "headers = [\"Wzorzec\"]\n",
    "\n",
    "print(tabulate(table_data, headers=headers, tablefmt=\"fancy_grid\"))\n"
   ]
  },
  {
   "cell_type": "code",
   "execution_count": 15,
   "metadata": {},
   "outputs": [],
   "source": [
    "def rule_based_double_quality_search(dataset):\n",
    "\n",
    "    total_sentences = len(dataset)\n",
    "    true_positives = 0\n",
    "    false_positives = 0\n",
    "    true_negatives = 0\n",
    "    false_negatives = 0\n",
    "\n",
    "    for txt in dataset:\n",
    "        # Tekst wejściowy jako obiekt typu Document\n",
    "        doc = nlp(txt[0])\n",
    "\n",
    "        # Wywołanie metody matcher na obiekcie doc. Zwraca obiekty typu Span\n",
    "        matches = matcher(doc)\n",
    "        \n",
    "        if len(matches) > 0:\n",
    "            if txt[1] == 1:\n",
    "                true_positives += 1\n",
    "            else:\n",
    "                false_positives += 1\n",
    "        else:            \n",
    "            if txt[1] == 0:\n",
    "                true_negatives += 1\n",
    "            else:\n",
    "                false_negatives += 1\n",
    "    \n",
    "    \n",
    "    # Tworzenie listy z danymi\n",
    "    data = [\n",
    "        [\"Liczba zdań ze zbioru:\", total_sentences],\n",
    "        [\"TP:\", true_positives],\n",
    "        [\"FN:\", false_negatives],\n",
    "        [\"FP:\", false_positives],\n",
    "        [\"TN:\", true_negatives]\n",
    "    ]\n",
    "\n",
    "    # Obliczenie metryk\n",
    "    if (true_positives + false_positives) != 0:\n",
    "        precision = true_positives / (true_positives + false_positives)\n",
    "    else:\n",
    "        precision = 0.0\n",
    "\n",
    "    if (true_positives + false_negatives) != 0:\n",
    "        recall = true_positives / (true_positives + false_negatives)\n",
    "    else:\n",
    "        recall = 0.0\n",
    "\n",
    "    if (true_positives + true_negatives + false_positives + false_negatives) != 0:\n",
    "        accuracy = (true_positives + true_negatives) / (true_positives + true_negatives + false_positives + false_negatives)\n",
    "    else:\n",
    "        accuracy = 0.0\n",
    "\n",
    "    if (precision + recall) != 0:\n",
    "        f1_score = 2 * (precision * recall) / (precision + recall)\n",
    "    else:\n",
    "        f1_score = 0.0\n",
    "\n",
    "    if (true_positives + true_negatives + false_positives + false_negatives) != 0:\n",
    "        loss = (false_positives + false_negatives) / (true_positives + true_negatives + false_positives + false_negatives)\n",
    "    else:\n",
    "        loss = 0.0\n",
    "        \n",
    "    # Dodanie metryk do listy danych\n",
    "    data.extend([\n",
    "        [\"Miary:\"],\n",
    "        [\"Precision (precyzja):\", precision],\n",
    "        [\"Recall (czułość):\", recall],\n",
    "        [\"Accuracy (dokładność):\", accuracy],\n",
    "        [\"Loss (strata):\", loss],\n",
    "        [\"F1 Score (miara F1):\", f1_score]\n",
    "    ])\n",
    "\n",
    "    # Wypisanie danych w postaci tabeli\n",
    "    print(tabulate(data, headers=[\"Miary\",\"Wartości\"], tablefmt=\"fancy_grid\"))\n",
    "\n",
    "    confusion_matrix = [[true_positives, false_negatives], [false_positives, true_negatives]]\n",
    "\n",
    "   # Tworzenie etykiet dla macierzy pomyłek\n",
    "    labels = [[\"Pozytywna\", \"Negatywna\"], [\"Pozytywna\", \"Negatywna\"]]\n",
    "\n",
    "    # Wykreślenie Confusion Matrix z etykietami\n",
    "    sns.heatmap(confusion_matrix, annot=True, cmap=\"Blues\", fmt=\"d\", xticklabels=labels[0], yticklabels=labels[1])\n",
    "    plt.xlabel(\"Klasa predykowana\")\n",
    "    plt.ylabel(\"Klasa rzeczywista\")\n",
    "    plt.title(\"Tablica pomyłek\")\n",
    "    plt.show()"
   ]
  },
  {
   "cell_type": "code",
   "execution_count": 16,
   "metadata": {},
   "outputs": [
    {
     "name": "stdout",
     "output_type": "stream",
     "text": [
      "╒════════════════════════╤═══════════════╕\n",
      "│ Miary                  │      Wartości │\n",
      "╞════════════════════════╪═══════════════╡\n",
      "│ Liczba zdań ze zbioru: │ 33197         │\n",
      "├────────────────────────┼───────────────┤\n",
      "│ TP:                    │    65         │\n",
      "├────────────────────────┼───────────────┤\n",
      "│ FN:                    │    42         │\n",
      "├────────────────────────┼───────────────┤\n",
      "│ FP:                    │  1458         │\n",
      "├────────────────────────┼───────────────┤\n",
      "│ TN:                    │ 31632         │\n",
      "├────────────────────────┼───────────────┤\n",
      "│ Miary:                 │               │\n",
      "├────────────────────────┼───────────────┤\n",
      "│ Precision (precyzja):  │     0.0426789 │\n",
      "├────────────────────────┼───────────────┤\n",
      "│ Recall (czułość):      │     0.607477  │\n",
      "├────────────────────────┼───────────────┤\n",
      "│ Accuracy (dokładność): │     0.954815  │\n",
      "├────────────────────────┼───────────────┤\n",
      "│ Loss (strata):         │     0.0451848 │\n",
      "├────────────────────────┼───────────────┤\n",
      "│ F1 Score (miara F1):   │     0.0797546 │\n",
      "╘════════════════════════╧═══════════════╛\n"
     ]
    },
    {
     "data": {
      "image/png": "[encoded data removed]",
      "text/plain": [
       "<Figure size 640x480 with 2 Axes>"
      ]
     },
     "metadata": {},
     "output_type": "display_data"
    }
   ],
   "source": [
    "# Oblicz miary dla zbioru anomaly_opinions\n",
    "rule_based_double_quality_search(opinions_list)"
   ]
  },
  {
   "cell_type": "code",
   "execution_count": null,
   "metadata": {},
   "outputs": [],
   "source": []
  }
 ],
 "metadata": {
  "kernelspec": {
   "display_name": "base",
   "language": "python",
   "name": "python3"
  },
  "language_info": {
   "codemirror_mode": {
    "name": "ipython",
    "version": 3
   },
   "file_extension": ".py",
   "mimetype": "text/x-python",
   "name": "python",
   "nbconvert_exporter": "python",
   "pygments_lexer": "ipython3",
   "version": "3.10.9"
  },
  "orig_nbformat": 4
 },
 "nbformat": 4,
 "nbformat_minor": 2
}
