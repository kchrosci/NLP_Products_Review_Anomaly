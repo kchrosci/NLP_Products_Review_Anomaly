{
 "cells": [
  {
   "cell_type": "code",
   "execution_count": 1,
   "metadata": {},
   "outputs": [],
   "source": [
    "import pandas as pd\n",
    "import spacy\n",
    "from spacy.matcher import PhraseMatcher\n",
    "import matplotlib.pyplot as plt\n",
    "import seaborn as sns\n",
    "import random\n",
    "from tabulate import tabulate\n",
    "import math\n"
   ]
  },
  {
   "cell_type": "code",
   "execution_count": 2,
   "metadata": {},
   "outputs": [],
   "source": [
    "opinions = pd.read_csv('csv_data/preprocesed_files/anomaly_opinions.csv')\n",
    "# Tworzenie listy krotek\n",
    "opinions_list = [(row['content'], row['doubleQuality']) for _, row in opinions.iterrows()]\n",
    "random.shuffle(opinions_list)\n"
   ]
  },
  {
   "cell_type": "code",
   "execution_count": 3,
   "metadata": {},
   "outputs": [
    {
     "name": "stdout",
     "output_type": "stream",
     "text": [
      "107\n"
     ]
    }
   ],
   "source": [
    "# opinions_list=opinions_list[0:3000]\n",
    "sum_of_values = sum(item[1] for item in opinions_list)\n",
    "print(sum_of_values)  #"
   ]
  },
  {
   "cell_type": "code",
   "execution_count": 4,
   "metadata": {},
   "outputs": [
    {
     "name": "stdout",
     "output_type": "stream",
     "text": [
      "34\n",
      "31\n"
     ]
    }
   ],
   "source": [
    "nlp = spacy.load('pl_core_news_md')\n",
    "\n",
    "# Obiekt PhraseMatcher\n",
    "matcher = PhraseMatcher(nlp.vocab, attr='LOWER')\n",
    "\n",
    "# Lista fraz\n",
    "term_list = [\"lepszy niż\", \"lepszy od\", \"nie ma już\", \"na rynku\", \"w polskich\", \"lepszej jakosci\", \"od niemca\", \"nad polskimi\",\n",
    "             \"tak dobrze jak\", \"jak niemiecki\", \"polskiej wersji\", \"nad polskimi\", \"jak niemiecki\", \"najlepszy bo\", \"polski produkt\",\n",
    "             \"niemieckie wydanie\", \"jest Niemieckim\", \"oryginalne niemieckie\", \"z niemiec\", \"to niemiecki\", \"niemiecka chemia\",\n",
    "             \"niemiecka jakość\", \"oryginalny produkt\", \"rynek zachodni\", \"lepsza niż\", \"rynek polski\", \"zachodni rynek\",\n",
    "             \"niemiecki rynek\", \"jak polski\", \"wyprodukowany w\", \"produkowany w niemczech\", \"nie dorównują\", \"polskiej wersji\", \"europę wschodnią\"]\n",
    "print(len(term_list))\n",
    "term_list = list(set(term_list))\n",
    "print(len(term_list))\n"
   ]
  },
  {
   "cell_type": "code",
   "execution_count": 5,
   "metadata": {},
   "outputs": [
    {
     "name": "stdout",
     "output_type": "stream",
     "text": [
      "╒═══════════════════════╤═════════════════════════╤════════════════════╤═════════════════╕\n",
      "│ lepsza niż            │ w polskich              │ niemiecki rynek    │ jak niemiecki   │\n",
      "├───────────────────────┼─────────────────────────┼────────────────────┼─────────────────┤\n",
      "│ wyprodukowany w       │ to niemiecki            │ lepszy niż         │ nie dorównują   │\n",
      "├───────────────────────┼─────────────────────────┼────────────────────┼─────────────────┤\n",
      "│ na rynku              │ oryginalny produkt      │ niemieckie wydanie │ rynek zachodni  │\n",
      "├───────────────────────┼─────────────────────────┼────────────────────┼─────────────────┤\n",
      "│ niemiecka jakość      │ lepszej jakosci         │ jak polski         │ jest Niemieckim │\n",
      "├───────────────────────┼─────────────────────────┼────────────────────┼─────────────────┤\n",
      "│ oryginalne niemieckie │ niemiecka chemia        │ polskiej wersji    │ nie ma już      │\n",
      "├───────────────────────┼─────────────────────────┼────────────────────┼─────────────────┤\n",
      "│ europę wschodnią      │ od niemca               │ tak dobrze jak     │ polski produkt  │\n",
      "├───────────────────────┼─────────────────────────┼────────────────────┼─────────────────┤\n",
      "│ zachodni rynek        │ produkowany w niemczech │ nad polskimi       │ lepszy od       │\n",
      "├───────────────────────┼─────────────────────────┼────────────────────┼─────────────────┤\n",
      "│ z niemiec             │ rynek polski            │ najlepszy bo       │                 │\n",
      "╘═══════════════════════╧═════════════════════════╧════════════════════╧═════════════════╛\n"
     ]
    }
   ],
   "source": [
    "\n",
    "columns = 4\n",
    "rows = math.ceil(len(term_list) / columns)\n",
    "table = []\n",
    "\n",
    "for i in range(rows):\n",
    "    row = term_list[i*columns:(i+1)*columns]\n",
    "    table.append(row)\n",
    "\n",
    "print(tabulate(table,  tablefmt=\"fancy_grid\"))"
   ]
  },
  {
   "cell_type": "code",
   "execution_count": 21,
   "metadata": {},
   "outputs": [],
   "source": [
    "\n",
    "def rule_based_double_quality_search(dataset, term_list):\n",
    "\n",
    "    total_sentences = len(dataset)\n",
    "    true_positives = 0\n",
    "    false_positives = 0\n",
    "    true_negatives = 0\n",
    "    false_negatives = 0\n",
    "\n",
    "    # Konwersja fraz na obiekty typu Document\n",
    "    patterns = [nlp.make_doc(t) for t in term_list]\n",
    "\n",
    "    # Dodanie wzorców do obiektu matcher\n",
    "    matcher.add(\"Phrase Match\", None, *patterns)\n",
    "\n",
    "    for txt in dataset:\n",
    "        # Tekst wejściowy jako obiekt typu Document\n",
    "        doc = nlp(txt[0])\n",
    "        \n",
    "        # Wywołanie metody matcher na obiekcie doc. Zwraca obiekty typu Span\n",
    "        matches = matcher(doc, as_spans=True)\n",
    "        \n",
    "        if len(matches) > 0:\n",
    "            if(txt[1] == 1):\n",
    "                true_positives += 1\n",
    "            else:\n",
    "                false_positives += 1\n",
    "        else:            \n",
    "            if(txt[1] == 0):\n",
    "                true_negatives += 1\n",
    "            else:\n",
    "                false_negatives += 1\n",
    "    \n",
    "    # Tworzenie listy z danymi\n",
    "    data = [\n",
    "        [\"Liczba zdań ze zbioru:\", total_sentences],\n",
    "        [\"TP:\", true_positives],\n",
    "        [\"FN:\", false_negatives],\n",
    "        [\"FP:\", false_positives],\n",
    "        [\"TN:\", true_negatives]\n",
    "    ]\n",
    "\n",
    "    # Obliczenie metryk\n",
    "    precision = true_positives / (true_positives + false_positives)\n",
    "    recall = true_positives / (true_positives + false_negatives)\n",
    "    accuracy = (true_positives + true_negatives) / (true_positives + true_negatives + false_positives + false_negatives)\n",
    "    f1_score = 2 * (precision * recall) / (precision + recall)\n",
    "    loss = (false_positives + false_negatives) / (true_positives + true_negatives + false_positives + false_negatives)\n",
    "\n",
    "    # Dodanie metryk do listy danych\n",
    "    data.extend([\n",
    "        [\"Miary:\"],\n",
    "        [\"Precision (precyzja):\", precision],\n",
    "        [\"Recall (czułość):\", recall],\n",
    "        [\"Accuracy (dokładność):\", accuracy],\n",
    "        [\"Loss (strata):\", loss],\n",
    "        [\"F1 Score (miara F1):\", f1_score]\n",
    "    ])\n",
    "\n",
    "    # Wypisanie danych w postaci tabeli\n",
    "    print(tabulate(data, headers=[\"Miary\",\"Wartości\"], tablefmt=\"fancy_grid\"))\n",
    "\n",
    "    confusion_matrix = [[true_positives, false_negatives], [false_positives, true_negatives]]\n",
    "\n",
    "   # Tworzenie etykiet dla macierzy pomyłek\n",
    "    labels = [[\"Pozytywna\", \"Negatywna\"], [\"Pozytywna\", \"Negatywna\"]]\n",
    "\n",
    "    # Wykreślenie Confusion Matrix z etykietami\n",
    "    sns.heatmap(confusion_matrix, annot=True, cmap=\"Blues\", fmt=\"d\", xticklabels=labels[0], yticklabels=labels[1])\n",
    "    plt.xlabel(\"Klasa predykowana\")\n",
    "    plt.ylabel(\"Klasa rzeczywista\")\n",
    "    plt.title(\"Tablica pomyłek\")\n",
    "    plt.show()\n"
   ]
  },
  {
   "cell_type": "code",
   "execution_count": 22,
   "metadata": {},
   "outputs": [
    {
     "name": "stdout",
     "output_type": "stream",
     "text": [
      "╒════════════════════════╤════════════╕\n",
      "│ Miary                  │   Wartości │\n",
      "╞════════════════════════╪════════════╡\n",
      "│ Liczba zdań ze zbioru: │ 107        │\n",
      "├────────────────────────┼────────────┤\n",
      "│ TP:                    │  52        │\n",
      "├────────────────────────┼────────────┤\n",
      "│ FN:                    │  55        │\n",
      "├────────────────────────┼────────────┤\n",
      "│ FP:                    │   0        │\n",
      "├────────────────────────┼────────────┤\n",
      "│ TN:                    │   0        │\n",
      "├────────────────────────┼────────────┤\n",
      "│ Miary:                 │            │\n",
      "├────────────────────────┼────────────┤\n",
      "│ Precision (precyzja):  │   1        │\n",
      "├────────────────────────┼────────────┤\n",
      "│ Recall (czułość):      │   0.485981 │\n",
      "├────────────────────────┼────────────┤\n",
      "│ Accuracy (dokładność): │   0.485981 │\n",
      "├────────────────────────┼────────────┤\n",
      "│ Loss (strata):         │   0.514019 │\n",
      "├────────────────────────┼────────────┤\n",
      "│ F1 Score (miara F1):   │   0.654088 │\n",
      "╘════════════════════════╧════════════╛\n"
     ]
    },
    {
     "data": {
      "image/png": "[encoded data removed]",
      "text/plain": [
       "<Figure size 640x480 with 2 Axes>"
      ]
     },
     "metadata": {},
     "output_type": "display_data"
    }
   ],
   "source": [
    "# Oblicz miary dla zbioru anomaly_opinions\n",
    "rule_based_double_quality_search(opinions_list, term_list)"
   ]
  },
  {
   "cell_type": "code",
   "execution_count": null,
   "metadata": {},
   "outputs": [],
   "source": []
  }
 ],
 "metadata": {
  "kernelspec": {
   "display_name": "base",
   "language": "python",
   "name": "python3"
  },
  "language_info": {
   "codemirror_mode": {
    "name": "ipython",
    "version": 3
   },
   "file_extension": ".py",
   "mimetype": "text/x-python",
   "name": "python",
   "nbconvert_exporter": "python",
   "pygments_lexer": "ipython3",
   "version": "3.10.9"
  },
  "orig_nbformat": 4
 },
 "nbformat": 4,
 "nbformat_minor": 2
}
