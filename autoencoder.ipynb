{
 "cells": [
  {
   "cell_type": "code",
   "execution_count": 50,
   "metadata": {},
   "outputs": [
    {
     "name": "stdout",
     "output_type": "stream",
     "text": [
      "X_train shape: (18271, 2);\n",
      "X_test shape: (7907, 2); y_test shape: (7907,)\n"
     ]
    }
   ],
   "source": [
    "from sklearn.model_selection import train_test_split\n",
    "import pandas as pd\n",
    "\n",
    "SEED = 1337\n",
    "\n",
    "df_normal = pd.read_csv('csv_data/training_dataset/normal_opinions.csv')\n",
    "df_anomaly = pd.read_csv('csv_data/training_dataset/anomaly_opinions.csv')\n",
    "\n",
    "df_train, df_test = train_test_split(df_normal, test_size=0.3, random_state=SEED)\n",
    "\n",
    "X_train = df_train\n",
    "X_train = X_train.drop(['language'], axis=1)\n",
    "\n",
    "# Dodaj df_anomaly do X_test\n",
    "X_test = pd.concat([df_test, df_anomaly]).reset_index(drop=True)\n",
    "X_test = X_test.drop(['language'], axis=1)\n",
    "y_test = X_test['doubleQuality'] \n",
    "\n",
    "print(f'X_train shape: {X_train.shape};')\n",
    "print(f'X_test shape: {X_test.shape}; y_test shape: {y_test.shape}')\n"
   ]
  },
  {
   "cell_type": "code",
   "execution_count": 51,
   "metadata": {},
   "outputs": [
    {
     "data": {
      "text/html": [
       "<div>\n",
       "<style scoped>\n",
       "    .dataframe tbody tr th:only-of-type {\n",
       "        vertical-align: middle;\n",
       "    }\n",
       "\n",
       "    .dataframe tbody tr th {\n",
       "        vertical-align: top;\n",
       "    }\n",
       "\n",
       "    .dataframe thead th {\n",
       "        text-align: right;\n",
       "    }\n",
       "</style>\n",
       "<table border=\"1\" class=\"dataframe\">\n",
       "  <thead>\n",
       "    <tr style=\"text-align: right;\">\n",
       "      <th></th>\n",
       "      <th>content</th>\n",
       "      <th>doubleQuality</th>\n",
       "    </tr>\n",
       "  </thead>\n",
       "  <tbody>\n",
       "    <tr>\n",
       "      <th>7996</th>\n",
       "      <td>Dobra jakość, osobiście uważam, że są lepsze o...</td>\n",
       "      <td>0</td>\n",
       "    </tr>\n",
       "    <tr>\n",
       "      <th>10311</th>\n",
       "      <td>Naczynia są błyszczące</td>\n",
       "      <td>0</td>\n",
       "    </tr>\n",
       "  </tbody>\n",
       "</table>\n",
       "</div>"
      ],
      "text/plain": [
       "                                                 content  doubleQuality\n",
       "7996   Dobra jakość, osobiście uważam, że są lepsze o...              0\n",
       "10311                             Naczynia są błyszczące              0"
      ]
     },
     "execution_count": 51,
     "metadata": {},
     "output_type": "execute_result"
    }
   ],
   "source": [
    "X_train.head(2)\n"
   ]
  },
  {
   "cell_type": "code",
   "execution_count": 52,
   "metadata": {},
   "outputs": [
    {
     "name": "stdout",
     "output_type": "stream",
     "text": [
      "[0 1]\n"
     ]
    }
   ],
   "source": [
    "X_test.head(2)\n",
    "\n",
    "import pandas as pd\n",
    "\n",
    "# Wyświetl unikalne wartości w kolumnie \"Origin\"\n",
    "unique_values = X_test['doubleQuality'].unique()\n",
    "print(unique_values)"
   ]
  },
  {
   "cell_type": "code",
   "execution_count": 54,
   "metadata": {},
   "outputs": [
    {
     "name": "stdout",
     "output_type": "stream",
     "text": [
      "                                                content  doubleQuality\n",
      "7831  Spodziewałam się lepszej jakosci. Proszek nie ...              1\n",
      "7832               Dużo kilo. Nie pachnie jak niemiecki              1\n"
     ]
    }
   ],
   "source": [
    "examples = X_test.loc[X_test['doubleQuality'] == 1].head(2)\n",
    "print(examples)"
   ]
  }
 ],
 "metadata": {
  "kernelspec": {
   "display_name": "base",
   "language": "python",
   "name": "python3"
  },
  "language_info": {
   "codemirror_mode": {
    "name": "ipython",
    "version": 3
   },
   "file_extension": ".py",
   "mimetype": "text/x-python",
   "name": "python",
   "nbconvert_exporter": "python",
   "pygments_lexer": "ipython3",
   "version": "3.10.9"
  },
  "orig_nbformat": 4
 },
 "nbformat": 4,
 "nbformat_minor": 2
}
