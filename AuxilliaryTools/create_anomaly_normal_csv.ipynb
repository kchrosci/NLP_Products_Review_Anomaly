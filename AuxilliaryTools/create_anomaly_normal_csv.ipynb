{
 "cells": [
  {
   "cell_type": "code",
   "execution_count": 4,
   "metadata": {},
   "outputs": [],
   "source": [
    "import pandas as pd"
   ]
  },
  {
   "cell_type": "code",
   "execution_count": 6,
   "metadata": {},
   "outputs": [],
   "source": [
    "# Wczytaj pierwszy plik CSV\n",
    "df1 = pd.read_csv('csv_data/nlp2023_v2.csv')\n",
    "\n",
    "# Wybierz interesujące kolumny \n",
    "columns = ['salusBcContent.description', 'salusBcContent.language', 'salusBcContent.doubleQuality']\n",
    "df1_columns = df1[columns].copy()\n",
    "\n",
    "# Zmień nazwy kolumn\n",
    "df1_columns.rename(columns={'salusBcContent.description': 'content', 'salusBcContent.language': 'language', 'salusBcContent.doubleQuality': 'doubleQuality'}, inplace=True)\n",
    "\n",
    "# Zamień wartości doubleQuality na 1 i 0\n",
    "df1_columns['doubleQuality'] = df1_columns['doubleQuality'].astype(int)\n",
    "\n",
    "# Filtruj wiersze, gdzie język to \"POL\"\n",
    "df1_columns = df1_columns[df1_columns['language'] == 'POL']\n",
    "\n",
    "# Zapisz wynik do nowego pliku CSV\n",
    "df1_columns.to_csv('csv_data/normal_opinions.csv', index=False)"
   ]
  },
  {
   "cell_type": "code",
   "execution_count": 7,
   "metadata": {},
   "outputs": [],
   "source": [
    "# Wczytaj drugi plik CSV\n",
    "df1 = pd.read_csv('csv_data/doubleQuality.csv')\n",
    "\n",
    "# Wybierz interesujące kolumny \n",
    "columns = ['content', 'language', 'doubleQuality']\n",
    "df1_columns = df1[columns].copy()\n",
    "\n",
    "# Zmień nazwy kolumn\n",
    "df1_columns.rename(columns={'content': 'content', 'language': 'language', 'doubleQuality': 'doubleQuality'}, inplace=True)\n",
    "\n",
    "# Zamień wartości doubleQuality na 1 i 0\n",
    "df1_columns['doubleQuality'] = df1_columns['doubleQuality'].astype(int)\n",
    "\n",
    "df1_columns = df1_columns[df1_columns['language'] == 'POL']\n",
    "\n",
    "# Zapisz wynik do nowego pliku CSV\n",
    "df1_columns.to_csv('csv_data/anomaly_opinions.csv', index=False)\n"
   ]
  },
  {
   "cell_type": "code",
   "execution_count": 8,
   "metadata": {},
   "outputs": [],
   "source": [
    "import pandas as pd\n",
    "\n",
    "# Wczytaj pierwszy plik CSV\n",
    "df1 = pd.read_csv('csv_data/normal_opinions.csv')\n",
    "\n",
    "# Wczytaj drugi plik CSV\n",
    "df2 = pd.read_csv('csv_data/anomaly_opinions.csv')\n",
    "\n",
    "# Przenieś wiersze, gdzie doubleQuality ma wartość 1, z pierwszego do drugiego pliku\n",
    "rows_to_move = df1[df1['doubleQuality'] == 1]\n",
    "df2 = pd.concat([df2, rows_to_move])\n",
    "\n",
    "# Usuń przeniesione wiersze z pierwszego pliku\n",
    "df1 = df1[df1['doubleQuality'] != 1]\n",
    "\n",
    "# Zapisz zmienione dane do plików CSV\n",
    "df1.to_csv('csv_data/normal_opinions.csv', index=False)\n",
    "df2.to_csv('csv_data/anomaly_opinions.csv', index=False)"
   ]
  },
  {
   "cell_type": "code",
   "execution_count": 9,
   "metadata": {},
   "outputs": [],
   "source": [
    "# Wczytaj pierwszy plik CSV\n",
    "df1 = pd.read_csv('csv_data/nlp2023_v3_translated.csv')\n",
    "\n",
    "# Wybierz interesujące kolumny \n",
    "columns = ['content', 'language', 'doubleQuality']\n",
    "df1_columns = df1[columns].copy()\n",
    "\n",
    "# Zmień nazwy kolumn\n",
    "df1_columns.rename(columns={'content': 'content', 'language': 'language', 'doubleQuality': 'doubleQuality'}, inplace=True)\n",
    "\n",
    "# Zapisz wynik do nowego pliku CSV\n",
    "df1_columns.to_csv('csv_data/normal_opinions_full_dataset.csv', index=False)"
   ]
  },
  {
   "cell_type": "code",
   "execution_count": 10,
   "metadata": {},
   "outputs": [],
   "source": [
    "import pandas as pd\n",
    "\n",
    "# Wczytaj pierwszy plik CSV\n",
    "df1 = pd.read_csv('csv_data/normal_opinions_full_dataset.csv')\n",
    "\n",
    "# Wczytaj drugi plik CSV\n",
    "df2 = pd.read_csv('csv_data/anomaly_opinions_full_dataset.csv')\n",
    "\n",
    "# Przenieś wiersze, gdzie doubleQuality ma wartość 1, z pierwszego do drugiego pliku\n",
    "rows_to_move = df1[df1['doubleQuality'] == 1]\n",
    "df2 = pd.concat([df2, rows_to_move])\n",
    "\n",
    "# Usuń przeniesione wiersze z pierwszego pliku\n",
    "df1 = df1[df1['doubleQuality'] != 1]\n",
    "\n",
    "# Zapisz zmienione dane do plików CSV\n",
    "df1.to_csv('csv_data/normal_opinions_full_dataset.csv', index=False)\n",
    "df2.to_csv('csv_data/anomaly_opinions_full_dataset.csv', index=False)"
   ]
  }
 ],
 "metadata": {
  "kernelspec": {
   "display_name": "base",
   "language": "python",
   "name": "python3"
  },
  "language_info": {
   "codemirror_mode": {
    "name": "ipython",
    "version": 3
   },
   "file_extension": ".py",
   "mimetype": "text/x-python",
   "name": "python",
   "nbconvert_exporter": "python",
   "pygments_lexer": "ipython3",
   "version": "3.10.9"
  },
  "orig_nbformat": 4
 },
 "nbformat": 4,
 "nbformat_minor": 2
}
